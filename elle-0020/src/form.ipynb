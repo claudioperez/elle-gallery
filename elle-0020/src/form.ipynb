{
 "cells": [
  {
   "cell_type": "markdown",
   "metadata": {},
   "source": [
    "# Frame Reliability"
   ]
  },
  {
   "cell_type": "code",
   "execution_count": 1,
   "metadata": {
    "tags": []
   },
   "outputs": [],
   "source": [
    "import warnings\n",
    "import numpy as np\n",
    "import anon\n",
    "anon.conf.config.update(\"jax_enable_x64\", True)\n",
    "import anabel.backend as anp\n",
    "import matplotlib.pyplot as plt\n",
    "import scipy.stats\n",
    "import aleatoire, anabel\n",
    "from aleatoire import biMorgen, siSet,rvSet, rvFunction, nataf, FORM"
   ]
  },
  {
   "cell_type": "code",
   "execution_count": 2,
   "metadata": {},
   "outputs": [
    {
     "name": "stderr",
     "output_type": "stream",
     "text": [
      "WARNING:absl:No GPU/TPU found, falling back to CPU. (Set TF_CPP_MIN_LOG_LEVEL=0 and rerun for more info.)\n"
     ]
    },
    {
     "name": "stdout",
     "output_type": "stream",
     "text": [
      "34383.789473684206\n"
     ]
    },
    {
     "data": {
      "text/plain": [
       "DeviceArray([[ 1.52848872],\n",
       "             [ 0.00583991],\n",
       "             [-0.01110097],\n",
       "             [ 1.49259311],\n",
       "             [-0.02807217],\n",
       "             [ 0.0053456 ],\n",
       "             [ 1.45669751],\n",
       "             [-0.00603251],\n",
       "             [-0.01047929]], dtype=float64)"
      ]
     },
     "execution_count": 2,
     "metadata": {},
     "output_type": "execute_result"
    }
   ],
   "source": [
    "from simple_portal import f\n",
    "f(6.,60.)"
   ]
  },
  {
   "cell_type": "code",
   "execution_count": 3,
   "metadata": {},
   "outputs": [],
   "source": [
    "res = 100\n",
    "rng = 2"
   ]
  },
  {
   "cell_type": "markdown",
   "metadata": {},
   "source": [
    "### Random variables\n"
   ]
  },
  {
   "cell_type": "code",
   "execution_count": 4,
   "metadata": {},
   "outputs": [],
   "source": [
    "mean1, std1 = 6., 0.6\n",
    "s = np.sqrt(np.log(std1**2/mean1**2+1))\n",
    "mu = mean1**2/np.sqrt(std1**2+mean1**2)\n",
    "X1 = scipy.stats.lognorm(s=s, scale=mu)\n",
    "x1 = np.linspace(5,mean1+rng*std1,res)"
   ]
  },
  {
   "cell_type": "code",
   "execution_count": 5,
   "metadata": {},
   "outputs": [],
   "source": [
    "mean2, std2 = 60., 6.\n",
    "s2 = np.sqrt(np.log(std2**2/mean2**2+1))\n",
    "m2 = mean2**2/np.sqrt(std2**2+mean2**2)\n",
    "X2 = scipy.stats.lognorm(s=s2, scale=m2)\n",
    "x2 = np.linspace(5,mean2+rng*std2,res)"
   ]
  },
  {
   "cell_type": "code",
   "execution_count": 6,
   "metadata": {},
   "outputs": [
    {
     "name": "stdout",
     "output_type": "stream",
     "text": [
      "6.0   0.6000000000000003\n",
      "60.0   6.000000000000003\n"
     ]
    }
   ],
   "source": [
    "print(X1.mean(),' ',X1.std())\n",
    "print(X2.mean(),' ',X2.std())"
   ]
  },
  {
   "cell_type": "code",
   "execution_count": 7,
   "metadata": {},
   "outputs": [],
   "source": [
    "rho= 0.0\n",
    "Rxx  = np.array([[1, rho],[rho,1]])\n",
    "_xx_ = rvSet(rvars=[X1,X2],Rxx=Rxx)"
   ]
  },
  {
   "cell_type": "markdown",
   "metadata": {},
   "source": [
    "### Limit State"
   ]
  },
  {
   "cell_type": "code",
   "execution_count": 8,
   "metadata": {},
   "outputs": [],
   "source": [
    "def func_x(x):\n",
    "    t,b = x\n",
    "    return 1.6 - f(t,b).flatten()[0]\n",
    "\n",
    "df = anabel.autodiff.jacfwd(func_x)\n",
    "\n",
    "def grad_x(x):\n",
    "    uh = df(x)\n",
    "    return uh"
   ]
  },
  {
   "cell_type": "markdown",
   "metadata": {},
   "source": [
    "## Part a)"
   ]
  },
  {
   "cell_type": "markdown",
   "metadata": {},
   "source": [
    "### i) Statistically Independent"
   ]
  },
  {
   "cell_type": "code",
   "execution_count": 9,
   "metadata": {},
   "outputs": [
    {
     "name": "stderr",
     "output_type": "stream",
     "text": [
      "/home/claudio/pkgs/aleatoire/src/aleatoire/form.py:49: OptimizeWarning: Unknown solver options: tol, constr\n",
      "  sol = minimize(f,u0, constraints=con, options=options)\n"
     ]
    },
    {
     "name": "stdout",
     "output_type": "stream",
     "text": [
      "\n",
      "\n",
      "FORM Results:\n",
      "u*:    [-1.389 -0.76 ]\n",
      "x*:    [ 5.198 55.346]\n",
      "alpha: [-0.8774 -0.4798]\n",
      "beta:  1.5831\n",
      "pf1:   0.0567\n"
     ]
    }
   ],
   "source": [
    "XYi = siSet([X1,X2])\n",
    "pi = FORM(XYi,func_x,grad_x)\n",
    "pi.run()\n",
    "pi.print_analysis()"
   ]
  },
  {
   "cell_type": "markdown",
   "metadata": {},
   "source": [
    "### ii) Nataf"
   ]
  },
  {
   "cell_type": "code",
   "execution_count": 10,
   "metadata": {},
   "outputs": [
    {
     "name": "stderr",
     "output_type": "stream",
     "text": [
      "/home/claudio/pkgs/aleatoire/src/aleatoire/form.py:49: OptimizeWarning: Unknown solver options: tol, constr\n",
      "  sol = minimize(f,u0, constraints=con, options=options)\n"
     ]
    },
    {
     "name": "stdout",
     "output_type": "stream",
     "text": [
      "\n",
      "\n",
      "FORM Results:\n",
      "u*:    [-1.245 -0.461]\n",
      "x*:    [ 5.273 53.909]\n",
      "alpha: [-0.9377 -0.3475]\n",
      "beta:  1.3277\n",
      "pf1:   0.092135\n"
     ]
    }
   ],
   "source": [
    "rho = 0.5\n",
    "Rxx  = np.array([[1, rho],[rho,1]])\n",
    "C = aleatoire.transform.nataf_correlation[\"lognorm\"][\"lognorm\"]\n",
    "\n",
    "XYii = nataf([X1,X2], Rxx, C)\n",
    "pii = FORM(XYii,func_x,grad_x)\n",
    "pii.run()\n",
    "pii.print_analysis()"
   ]
  },
  {
   "cell_type": "markdown",
   "metadata": {},
   "source": [
    "## Part b) "
   ]
  },
  {
   "cell_type": "code",
   "execution_count": 13,
   "metadata": {},
   "outputs": [],
   "source": [
    "u1 = u2 = anp.linspace(-2,2,100)"
   ]
  },
  {
   "cell_type": "code",
   "execution_count": 14,
   "metadata": {},
   "outputs": [],
   "source": [
    "def gsolve(x):\n",
    "    f = lambda y: func_x([x,y[0]])\n",
    "    return scipy.optimize.fsolve(f,0)[0]\n",
    "\n",
    "with warnings.catch_warnings():\n",
    "    warnings.simplefilter(\"ignore\")\n",
    "    gi = [gsolve(x) for x in x1]\n",
    "\n",
    "def Gsolve(u1):\n",
    "    f = lambda u2: func_x(XYii.u_to_x([u1,u2[0]]))\n",
    "    return scipy.optimize.fsolve(f,0.001)[0]\n",
    "\n",
    "with warnings.catch_warnings():\n",
    "    warnings.simplefilter(\"ignore\")\n",
    "    Gi = [Gsolve(x) for x in u1]"
   ]
  },
  {
   "cell_type": "code",
   "execution_count": 15,
   "metadata": {},
   "outputs": [
    {
     "data": {
      "image/png": "[encoded data removed]",
      "text/plain": [
       "<Figure size 432x288 with 2 Axes>"
      ]
     },
     "metadata": {
      "needs_background": "light"
     },
     "output_type": "display_data"
    }
   ],
   "source": [
    "fig, (ax1,ax2) = plt.subplots(1,2,constrained_layout=True)\n",
    "\n",
    "xx,yy = np.meshgrid(x1,x2)\n",
    "zz = XYii.jpdf(xx,yy)\n",
    "CS = ax1.contour(xx,yy,zz)#, extent=(x1[0], x1[-1], x2[0], x2[-1]))\n",
    "ax1.clabel(CS, inline=1, fontsize=10)\n",
    "ax1.scatter(*pii.design_point_x,color='red')\n",
    "ax1.set_title('X-Space')\n",
    "ax1.set_xlabel(\"$t_f$\")\n",
    "ax1.set_ylabel(\"$b_f$\")\n",
    "ax1.plot(x1,gi, 'r:')\n",
    "\n",
    "uu,vv = np.meshgrid(u1, u2)\n",
    "pos = np.empty(uu.shape + (2,))\n",
    "pos[:, :, 0] = uu\n",
    "pos[:, :, 1] = vv\n",
    "        \n",
    "oo = scipy.stats.multivariate_normal.pdf(pos, np.zeros(2))\n",
    "CS = ax2.contour(uu,vv,oo)\n",
    "ax2.scatter(*pii.design_point_u, color='red')\n",
    "ax2.set_title('U-Space');\n",
    "ax2.set_xlabel(\"$u_1$\")\n",
    "ax2.set_ylabel(\"$u_2$\")\n",
    "ax2.plot(u1,Gi, 'r:');"
   ]
  }
 ],
 "metadata": {
  "kernelspec": {
   "display_name": "Python 3",
   "language": "python",
   "name": "python3"
  },
  "language_info": {
   "codemirror_mode": {
    "name": "ipython",
    "version": 3
   },
   "file_extension": ".py",
   "mimetype": "text/x-python",
   "name": "python",
   "nbconvert_exporter": "python",
   "pygments_lexer": "ipython3",
   "version": "3.8.8"
  }
 },
 "nbformat": 4,
 "nbformat_minor": 4
}
