{
 "cells": [
  {
   "cell_type": "markdown",
   "metadata": {},
   "source": [
    "# Transient Analysis of a Geometrically Nonlinear Frame"
   ]
  },
  {
   "cell_type": "markdown",
   "metadata": {},
   "source": [
    "[![Commits since latest release][gh-image]][gh-link]\n",
    "\n",
    "[gh-link]: https://github.com/claudioperez/elle-0002/compare/v0.0.0...master\n",
    "[gh-image]: https://img.shields.io/github/commits-since/claudioperez/elle-0002/v0.0.0?style=social"
   ]
  },
  {
   "cell_type": "code",
   "execution_count": 1,
   "metadata": {},
   "outputs": [],
   "source": [
    "import anon.conf\n",
    "anon.conf.config.update('jax_disable_jit', True)\n",
    "anon.conf.config.update('jax_enable_x64', True)\n",
    "import anabel\n",
    "import anon\n",
    "import jax\n",
    "import anon.atom as anp\n",
    "import elle.sections\n",
    "import elle.beam2d\n",
    "import elle.springs\n",
    "import anabel as em\n",
    "mat = elle.springs.isokin.no1(3600.0,4.0,H0=36.0)\n",
    "# mat = elle.springs.gmp.no5(60.0,29e3)\n",
    "GirderSec = anabel.sections.Tee\n",
    "ColumnSec = anabel.sections.Rectangle\n",
    "geom_template = elle.beam2d.transform_no2(elle.beam2d.geom_no2)\n",
    "beam_template = elle.beam2d.resp_no6"
   ]
  },
  {
   "cell_type": "markdown",
   "metadata": {},
   "source": [
    "An `Assembler` is an object with an `.assemble()` and optionally a `.compose()` method."
   ]
  },
  {
   "cell_type": "code",
   "execution_count": 2,
   "metadata": {},
   "outputs": [
    {
     "name": "stderr",
     "output_type": "stream",
     "text": [
      "WARNING:absl:No GPU/TPU found, falling back to CPU. (Set TF_CPP_MIN_LOG_LEVEL=0 and rerun for more info.)\n"
     ]
    }
   ],
   "source": [
    "# Create a model Assembler\n",
    "model = em.SkeletalModel(ndm=2,ndf=3)\n",
    "\n",
    "# Define problem parameters\n",
    "P1 = model.param(\"P1\")\n",
    "\n",
    "# Define model components\n",
    "girder_section = GirderSec(d=24.0, bf=60.0, tf=6.0, tw=18.0, mat=mat).assemble()\n",
    "column_section = ColumnSec(d=30.0, b=30.0,mat=mat).assemble()\n",
    "basic_girder  = beam_template(*[girder_section]*4, quad={\"n\": 4, \"rule\": \"lobatto\"})\n",
    "# basic_column  = beam_template(*[column_section]*8, quad={\"n\": 4, \"rule\": \"mid\"})\n",
    "basic_column = elle.beam2d.resp_no1(A=30.0**2,E=3600.0,I=30**4/12)\n",
    "\n",
    "girder = geom_template(basic_girder)\n",
    "column = geom_template(basic_column)"
   ]
  },
  {
   "cell_type": "code",
   "execution_count": 3,
   "metadata": {},
   "outputs": [
    {
     "data": {
      "image/png": "[encoded data removed]",
      "text/plain": [
       "<Figure size 432x288 with 1 Axes>"
      ]
     },
     "metadata": {
      "needs_background": "light"
     },
     "output_type": "display_data"
    }
   ],
   "source": [
    "# Set up nodes\n",
    "ft = 12.\n",
    "B, H = 30.*ft, 13.*ft\n",
    "model.node(\"1\",  0.,  0.)\n",
    "model.node(\"2\",  0.,  H )\n",
    "model.node(\"3\", B/2,  H )\n",
    "model.node(\"4\",  B ,  H )\n",
    "model.node(\"5\",  B ,  0.)\n",
    "\n",
    "model.beam(\"a\", \"1\", \"2\", elem=column)\n",
    "model.beam(\"b\", \"2\", \"3\", elem=girder)\n",
    "model.beam(\"c\", \"3\", \"4\", elem=girder)\n",
    "model.beam(\"d\", \"4\", \"5\", elem=column)\n",
    "\n",
    "model.boun(\"1\", [1,1,1])\n",
    "model.boun(\"5\", [1,1,1])\n",
    "\n",
    "model.load(\"2\", P1, dof=\"x\")\n",
    "model.load(\"2\", -2.0, dof=\"y\")\n",
    "model.load(\"2\", -2.0, dof=\"y\")\n",
    "\n",
    "em.plot_skeletal(model);"
   ]
  },
  {
   "cell_type": "code",
   "execution_count": 4,
   "metadata": {},
   "outputs": [
    {
     "data": {
      "text/plain": [
       "[[9, 10, 11], [0, 1, 2], [3, 4, 5], [6, 7, 8], [12, 13, 14]]"
      ]
     },
     "execution_count": 4,
     "metadata": {},
     "output_type": "execute_result"
    }
   ],
   "source": [
    "model.dofs"
   ]
  },
  {
   "cell_type": "code",
   "execution_count": 5,
   "metadata": {},
   "outputs": [],
   "source": [
    "f = model.compose()"
   ]
  },
  {
   "cell_type": "code",
   "execution_count": 6,
   "metadata": {},
   "outputs": [
    {
     "name": "stderr",
     "output_type": "stream",
     "text": [
      "/home/claudio/elle/numeric/elle/numeric/inverse.py:109: UserWarning: Function inversion failed to converge.\n",
      "  warnings.warn(\"Function inversion failed to converge.\")\n"
     ]
    },
    {
     "data": {
      "text/plain": [
       "DeviceArray([[ 1.70610291],\n",
       "             [ 0.02331842],\n",
       "             [-0.01326677],\n",
       "             [ 1.67563829],\n",
       "             [-0.0466029 ],\n",
       "             [ 0.00541659],\n",
       "             [ 1.61815267],\n",
       "             [ 0.01151919],\n",
       "             [-0.01267151]], dtype=float64)"
      ]
     },
     "execution_count": 6,
     "metadata": {},
     "output_type": "execute_result"
    }
   ],
   "source": [
    "f(1000)"
   ]
  },
  {
   "cell_type": "code",
   "execution_count": 7,
   "metadata": {},
   "outputs": [],
   "source": [
    "# for i in range(3):embler objects.\n",
    "\n",
    "An assembler is typically characterized by collections of nodes, elements and parameters. The purpose of the assembler is to provide a convenient interface for interacting with and managing these entities.\n",
    "\n",
    "\n",
    "#     fig, ax = em.plot_displ(model, f(10.*i),scale=1e2)"
   ]
  },
  {
   "cell_type": "code",
   "execution_count": 8,
   "metadata": {},
   "outputs": [
    {
     "data": {
      "text/plain": [
       "DeviceArray([[    0.        ,     0.        ,     0.        ,\n",
       "                  0.        ,     0.        ,     0.        ,\n",
       "                  0.        ,     0.        ,     0.        ,\n",
       "                  0.        ,     0.        ,     0.        ,\n",
       "                  0.        ,     0.        ,     0.        ,\n",
       "                  0.        ,     0.        ,     0.        ,\n",
       "                  0.        ,     0.        ],\n",
       "             [    0.        ,   266.66666667,   533.33333333,\n",
       "                800.        ,  1000.        ,   733.33333333,\n",
       "                466.66666667,   200.        ,    -0.        ,\n",
       "               -266.66666667,  -533.33333333,  -800.        ,\n",
       "              -1000.        ,  -733.33333333,  -466.66666667,\n",
       "               -200.        ,     0.        ,   266.66666667,\n",
       "                533.33333333,   800.        ],\n",
       "             [    0.        ,     0.        ,     0.        ,\n",
       "                  0.        ,     0.        ,     0.        ,\n",
       "                  0.        ,     0.        ,     0.        ,\n",
       "                  0.        ,     0.        ,     0.        ,\n",
       "                  0.        ,     0.        ,     0.        ,\n",
       "                  0.        ,     0.        ,     0.        ,\n",
       "                  0.        ,     0.        ],\n",
       "             [    0.        ,     0.        ,     0.        ,\n",
       "                  0.        ,     0.        ,     0.        ,\n",
       "                  0.        ,     0.        ,     0.        ,\n",
       "                  0.        ,     0.        ,     0.        ,\n",
       "                  0.        ,     0.        ,     0.        ,\n",
       "                  0.        ,     0.        ,     0.        ,\n",
       "                  0.        ,     0.        ],\n",
       "             [    0.        ,     0.        ,     0.        ,\n",
       "                  0.        ,     0.        ,     0.        ,\n",
       "                  0.        ,     0.        ,     0.        ,\n",
       "                  0.        ,     0.        ,     0.        ,\n",
       "                  0.        ,     0.        ,     0.        ,\n",
       "                  0.        ,     0.        ,     0.        ,\n",
       "                  0.        ,     0.        ],\n",
       "             [    0.        ,     0.        ,     0.        ,\n",
       "                  0.        ,     0.        ,     0.        ,\n",
       "                  0.        ,     0.        ,     0.        ,\n",
       "                  0.        ,     0.        ,     0.        ,\n",
       "                  0.        ,     0.        ,     0.        ,\n",
       "                  0.        ,     0.        ,     0.        ,\n",
       "                  0.        ,     0.        ],\n",
       "             [    0.        ,     0.        ,     0.        ,\n",
       "                  0.        ,     0.        ,     0.        ,\n",
       "                  0.        ,     0.        ,     0.        ,\n",
       "                  0.        ,     0.        ,     0.        ,\n",
       "                  0.        ,     0.        ,     0.        ,\n",
       "                  0.        ,     0.        ,     0.        ,\n",
       "                  0.        ,     0.        ],\n",
       "             [    0.        ,     0.        ,     0.        ,\n",
       "                  0.        ,     0.        ,     0.        ,\n",
       "                  0.        ,     0.        ,     0.        ,\n",
       "                  0.        ,     0.        ,     0.        ,\n",
       "                  0.        ,     0.        ,     0.        ,\n",
       "                  0.        ,     0.        ,     0.        ,\n",
       "                  0.        ,     0.        ],\n",
       "             [    0.        ,     0.        ,     0.        ,\n",
       "                  0.        ,     0.        ,     0.        ,\n",
       "                  0.        ,     0.        ,     0.        ,\n",
       "                  0.        ,     0.        ,     0.        ,\n",
       "                  0.        ,     0.        ,     0.        ,\n",
       "                  0.        ,     0.        ,     0.        ,\n",
       "                  0.        ,     0.        ],\n",
       "             [    0.        ,     0.        ,     0.        ,\n",
       "                  0.        ,     0.        ,     0.        ,\n",
       "                  0.        ,     0.        ,     0.        ,\n",
       "                  0.        ,     0.        ,     0.        ,\n",
       "                  0.        ,     0.        ,     0.        ,\n",
       "                  0.        ,     0.        ,     0.        ,\n",
       "                  0.        ,     0.        ],\n",
       "             [    0.        ,     0.        ,     0.        ,\n",
       "                  0.        ,     0.        ,     0.        ,\n",
       "                  0.        ,     0.        ,     0.        ,\n",
       "                  0.        ,     0.        ,     0.        ,\n",
       "                  0.        ,     0.        ,     0.        ,\n",
       "                  0.        ,     0.        ,     0.        ,\n",
       "                  0.        ,     0.        ],\n",
       "             [    0.        ,     0.        ,     0.        ,\n",
       "                  0.        ,     0.        ,     0.        ,\n",
       "                  0.        ,     0.        ,     0.        ,\n",
       "                  0.        ,     0.        ,     0.        ,\n",
       "                  0.        ,     0.        ,     0.        ,\n",
       "                  0.        ,     0.        ,     0.        ,\n",
       "                  0.        ,     0.        ],\n",
       "             [    0.        ,     0.        ,     0.        ,\n",
       "                  0.        ,     0.        ,     0.        ,\n",
       "                  0.        ,     0.        ,     0.        ,\n",
       "                  0.        ,     0.        ,     0.        ,\n",
       "                  0.        ,     0.        ,     0.        ,\n",
       "                  0.        ,     0.        ,     0.        ,\n",
       "                  0.        ,     0.        ],\n",
       "             [    0.        ,     0.        ,     0.        ,\n",
       "                  0.        ,     0.        ,     0.        ,\n",
       "                  0.        ,     0.        ,     0.        ,\n",
       "                  0.        ,     0.        ,     0.        ,\n",
       "                  0.        ,     0.        ,     0.        ,\n",
       "                  0.        ,     0.        ,     0.        ,\n",
       "                  0.        ,     0.        ],\n",
       "             [    0.        ,     0.        ,     0.        ,\n",
       "                  0.        ,     0.        ,     0.        ,\n",
       "                  0.        ,     0.        ,     0.        ,\n",
       "                  0.        ,     0.        ,     0.        ,\n",
       "                  0.        ,     0.        ,     0.        ,\n",
       "                  0.        ,     0.        ,     0.        ,\n",
       "                  0.        ,     0.        ]], dtype=float64)"
      ]
     },
     "execution_count": 8,
     "metadata": {},
     "output_type": "execute_result"
    }
   ],
   "source": [
    "model.cycle(0,0,1000,5,5,1)\n",
    "model.build_load_path(0)"
   ]
  },
  {
   "cell_type": "code",
   "execution_count": 9,
   "metadata": {},
   "outputs": [],
   "source": [
    "df = anon.diff.jacfwd(f, None, (0,1), squeeze=False)"
   ]
  },
  {
   "cell_type": "code",
   "execution_count": null,
   "metadata": {},
   "outputs": [],
   "source": []
  }
 ],
 "metadata": {
  "kernelspec": {
   "display_name": "Python 3",
   "language": "python",
   "name": "python3"
  },
  "language_info": {
   "codemirror_mode": {
    "name": "ipython",
    "version": 3
   },
   "file_extension": ".py",
   "mimetype": "text/x-python",
   "name": "python",
   "nbconvert_exporter": "python",
   "pygments_lexer": "ipython3",
   "version": "3.8.8"
  }
 },
 "nbformat": 4,
 "nbformat_minor": 4
}
