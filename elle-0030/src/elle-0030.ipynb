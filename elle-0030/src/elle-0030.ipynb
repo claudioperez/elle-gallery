{
 "cells": [
  {
   "cell_type": "markdown",
   "metadata": {},
   "source": [
    "[![Commits since latest release][gh-image]][gh-link]\n",
    "\n",
    "[gh-link]: https://github.com/claudioperez/elle-0002/compare/v0.0.0...master\n",
    "[gh-image]: https://img.shields.io/github/commits-since/claudioperez/elle-0002/v0.0.0?style=social"
   ]
  },
  {
   "cell_type": "code",
   "execution_count": 1,
   "metadata": {},
   "outputs": [],
   "source": [
    "import emme as em\n",
    "import elle.truss2d\n",
    "import numpy as anp"
   ]
  },
  {
   "cell_type": "code",
   "execution_count": 2,
   "metadata": {},
   "outputs": [
    {
     "data": {
      "text/plain": [
       "<AxesSubplot:>"
      ]
     },
     "execution_count": 2,
     "metadata": {},
     "output_type": "execute_result"
    },
    {
     "data": {
      "image/png": "[encoded data removed]",
      "text/plain": [
       "<Figure size 432x288 with 1 Axes>"
      ]
     },
     "metadata": {
      "needs_background": "light"
     },
     "output_type": "display_data"
    }
   ],
   "source": [
    "model = em.SkeletalModel(2,2)\n",
    "# Define parameters\n",
    "E = [\n",
    "    29e3,\n",
    "    29e3,\n",
    "]\n",
    "F = 40.0\n",
    "\n",
    "X =  [-60.06,59.95,-59.88,60.07,-59.80,60.02,-59.71,60.00,-59.65,59.98,-59.71,60.00,-59.80,60.02,-59.88,60.07,-60.06, 59.95]\n",
    "\n",
    "Y = anp.cumsum(anp.array([5.0] + [10.0]*8 + [5.0])) * 12.0\n",
    "\n",
    "#--------------------------------------------------------------------\n",
    "# Add nodes to model\n",
    "#--------------------------------------------------------------------\n",
    "model.node( \"1\", 0.0,   0.0)\n",
    "model.node(\"20\", 0.0, Y[-1])\n",
    "for i in range(1,19):\n",
    "    model.node(str(i+1), X[i-1], Y[(i//2,(i+1)//2)[i%2]-1])\n",
    "model.boun( '1', [1,1])\n",
    "model.boun('20', [1,0])\n",
    "\n",
    "properties = [\n",
    "    dict(A=1.590,E=E[1]),\n",
    "    dict(A=0.938,E=E[0]),\n",
    "]\n",
    "\n",
    "#--------------------------------------------------------------------\n",
    "# Add elements to model\n",
    "#--------------------------------------------------------------------\n",
    "for i in range(1,19):\n",
    "    model.truss('el-'+str(i*2-2+1*(i==1)),  str(  i), str(i+1), **properties[i!=1])\n",
    "    if i-1:  model.truss( 'el-'+str(i*2-1), str(i-1), str(i+1), **properties[i==1])\n",
    "i += 1\n",
    "\n",
    "model.truss('el-'+str(i*2-2), str(  i), str(i+1), **properties[0])\n",
    "model.truss('el-'+str(i*2-1), str(i-1), str(i+1), **properties[0])\n",
    "\n",
    "model.load(\"10\", F, dof=\"x\")\n",
    "# model.load(\"10\", 20.0, dof=\"y\")\n",
    "em.plot_structure(model);"
   ]
  },
  {
   "cell_type": "code",
   "execution_count": 4,
   "metadata": {},
   "outputs": [
    {
     "data": {
      "text/plain": [
       "DeviceArray([[-3.56618057e-03],\n",
       "             [ 5.42765924e-01],\n",
       "             [ 5.06451996e-01],\n",
       "             [ 5.86990613e-01],\n",
       "             [-5.49745977e-01],\n",
       "             [ 1.86617811e+00],\n",
       "             [ 4.78444235e-01],\n",
       "             [ 1.95432604e+00],\n",
       "             [-4.73006480e-01],\n",
       "             [ 3.07800289e+00],\n",
       "             [ 3.99529585e-01],\n",
       "             [ 3.16635669e+00],\n",
       "             [-3.42182338e-01],\n",
       "             [ 4.02885953e+00],\n",
       "             [ 2.68497236e-01],\n",
       "             [ 4.11708099e+00],\n",
       "             [-1.59409493e-01],\n",
       "             [ 4.61333920e+00],\n",
       "             [ 8.55905452e-02],\n",
       "             [ 4.52525009e+00],\n",
       "             [ 7.56054756e-02],\n",
       "             [ 4.04883947e+00],\n",
       "             [-1.49638724e-01],\n",
       "             [ 3.96054082e+00],\n",
       "             [ 2.58313984e-01],\n",
       "             [ 3.11776927e+00],\n",
       "             [-3.32951563e-01],\n",
       "             [ 3.02948900e+00],\n",
       "             [ 3.88788261e-01],\n",
       "             [ 1.92569824e+00],\n",
       "             [-4.64065460e-01],\n",
       "             [ 1.83725253e+00],\n",
       "             [ 4.67391761e-01],\n",
       "             [ 5.76909226e-01],\n",
       "             [-5.44195622e-01],\n",
       "             [ 5.32875699e-01],\n",
       "             [ 4.92109978e-01]], dtype=float64)"
      ]
     },
     "execution_count": 4,
     "metadata": {},
     "output_type": "execute_result"
    }
   ],
   "source": [
    "f = model.compose()\n",
    "f()"
   ]
  },
  {
   "cell_type": "code",
   "execution_count": null,
   "metadata": {},
   "outputs": [],
   "source": [
    "for Fi in [30.0, 4.0, 20.0]:\n",
    "    print(f())"
   ]
  },
  {
   "cell_type": "code",
   "execution_count": 5,
   "metadata": {},
   "outputs": [
    {
     "data": {
      "image/png": "[encoded data removed]",
      "text/plain": [
       "<Figure size 432x288 with 1 Axes>"
      ]
     },
     "metadata": {
      "needs_background": "light"
     },
     "output_type": "display_data"
    }
   ],
   "source": [
    "em.plot_displ(model, f());"
   ]
  },
  {
   "cell_type": "code",
   "execution_count": null,
   "metadata": {},
   "outputs": [],
   "source": []
  }
 ],
 "metadata": {
  "kernelspec": {
   "display_name": "Python 3",
   "language": "python",
   "name": "python3"
  },
  "language_info": {
   "codemirror_mode": {
    "name": "ipython",
    "version": 3
   },
   "file_extension": ".py",
   "mimetype": "text/x-python",
   "name": "python",
   "nbconvert_exporter": "python",
   "pygments_lexer": "ipython3",
   "version": "3.8.2"
  }
 },
 "nbformat": 4,
 "nbformat_minor": 4
}
