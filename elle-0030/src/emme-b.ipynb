{
 "cells": [
  {
   "cell_type": "markdown",
   "metadata": {},
   "source": [
    "[![Commits since latest release][gh-image]][gh-link]\n",
    "\n",
    "[gh-link]: https://github.com/claudioperez/elle-0002/compare/v0.0.0...master\n",
    "[gh-image]: https://img.shields.io/github/commits-since/claudioperez/elle-0002/v0.0.0?style=social"
   ]
  },
  {
   "cell_type": "code",
   "execution_count": 1,
   "metadata": {},
   "outputs": [],
   "source": [
    "import anon\n",
    "# anon.conf.config.update('jax_disable_jit', True)\n",
    "import emme as em\n",
    "import elle.truss2d\n",
    "import numpy as anp"
   ]
  },
  {
   "cell_type": "code",
   "execution_count": 2,
   "metadata": {},
   "outputs": [
    {
     "name": "stderr",
     "output_type": "stream",
     "text": [
      "WARNING:absl:No GPU/TPU found, falling back to CPU. (Set TF_CPP_MIN_LOG_LEVEL=0 and rerun for more info.)\n"
     ]
    },
    {
     "data": {
      "text/plain": [
       "<AxesSubplot:>"
      ]
     },
     "execution_count": 2,
     "metadata": {},
     "output_type": "execute_result"
    },
    {
     "data": {
      "image/png": "[encoded data removed]",
      "text/plain": [
       "<Figure size 432x288 with 1 Axes>"
      ]
     },
     "metadata": {
      "needs_background": "light"
     },
     "output_type": "display_data"
    }
   ],
   "source": [
    "model = em.SkeletalModel(2,2)\n",
    "# Define parameters\n",
    "E = [\n",
    "    model.param(\"E1\", shape=1),\n",
    "    model.param(\"E2\", shape=1),\n",
    "]\n",
    "F = model.param(\"F\",  shape=2)\n",
    "\n",
    "# X = model.param(\"X\", dim=20)\n",
    "X =  [-60.06,59.95,-59.88,60.07,-59.80,60.02,-59.71,60.00,-59.65,59.98,-59.71,60.00,-59.80,60.02,-59.88,60.07,-60.06, 59.95]\n",
    "\n",
    "Y = anp.cumsum(anp.array([5.0] + [10.0]*8 + [5.0])) * 12.0\n",
    "\n",
    "#--------------------------------------------------------------------\n",
    "# Add nodes to model\n",
    "#--------------------------------------------------------------------\n",
    "model.node( \"1\", 0.0,   0.0)\n",
    "model.node(\"20\", 0.0, Y[-1])\n",
    "for i in range(1,19):\n",
    "    model.node(str(i+1), X[i-1], Y[(i//2,(i+1)//2)[i%2]-1])\n",
    "model.boun( '1', [1,1])\n",
    "model.boun('20', [1,0])\n",
    "\n",
    "prototypes = [\n",
    "    elle.truss2d.resp_no3(A=1.590,E=E[1]),\n",
    "    elle.truss2d.resp_no3(A=0.938,E=E[0]),\n",
    "]\n",
    "\n",
    "\n",
    "for i in range(1,19):\n",
    "    model.truss('el-'+str(i*2-2+1*(i==1)),  str(  i), str(i+1), elem=prototypes[i!=1])\n",
    "    if i-1:  model.truss( 'el-'+str(i*2-1), str(i-1), str(i+1), elem=prototypes[i==1])\n",
    "i += 1\n",
    "\n",
    "model.truss('el-'+str(i*2-2), str(  i), str(i+1), elem=prototypes[0])\n",
    "model.truss('el-'+str(i*2-1), str(i-1), str(i+1), elem=prototypes[0])\n",
    "\n",
    "model.load(\"10\", F, dof=\"x\")\n",
    "# model.load(\"10\", 20.0, dof=\"y\")\n",
    "em.plot_structure(model)"
   ]
  },
  {
   "cell_type": "code",
   "execution_count": 3,
   "metadata": {},
   "outputs": [
    {
     "data": {
      "text/plain": [
       "DeviceArray([[-0.00077563],\n",
       "             [ 0.05430133],\n",
       "             [ 0.05062759],\n",
       "             [ 0.05867382],\n",
       "             [-0.05500036],\n",
       "             [ 0.18663983],\n",
       "             [ 0.04775637],\n",
       "             [ 0.19541405],\n",
       "             [-0.04740396],\n",
       "             [ 0.30782017],\n",
       "             [ 0.03980597],\n",
       "             [ 0.31662666],\n",
       "             [-0.03438478],\n",
       "             [ 0.40290418],\n",
       "             [ 0.02666605],\n",
       "             [ 0.41170814],\n",
       "             [-0.01615044],\n",
       "             [ 0.46137151],\n",
       "             [ 0.00835992],\n",
       "             [ 0.45252927],\n",
       "             [ 0.00733813],\n",
       "             [ 0.40489964],\n",
       "             [-0.01518418],\n",
       "             [ 0.39605227],\n",
       "             [ 0.02559317],\n",
       "             [ 0.31179479],\n",
       "             [-0.03355564],\n",
       "             [ 0.30293911],\n",
       "             [ 0.0386045 ],\n",
       "             [ 0.19259238],\n",
       "             [-0.04672739],\n",
       "             [ 0.18370881],\n",
       "             [ 0.04640728],\n",
       "             [ 0.05771668],\n",
       "             [-0.05481537],\n",
       "             [ 0.05326518],\n",
       "             [ 0.04881051]], dtype=float64)"
      ]
     },
     "execution_count": 3,
     "metadata": {},
     "output_type": "execute_result"
    }
   ],
   "source": [
    "f = model.compose()\n",
    "f(E1=29e3, E2=29001.0, F=4.0)"
   ]
  },
  {
   "cell_type": "code",
   "execution_count": 4,
   "metadata": {},
   "outputs": [
    {
     "name": "stdout",
     "output_type": "stream",
     "text": [
      "[[-0.02626263]\n",
      " [ 0.40856046]\n",
      " [ 0.37893393]\n",
      " [ 0.43891338]\n",
      " [-0.41384394]\n",
      " [ 1.4011252 ]\n",
      " [ 0.35396034]\n",
      " [ 1.46494789]\n",
      " [-0.36064264]\n",
      " [ 2.31001191]\n",
      " [ 0.29144613]\n",
      " [ 2.37464797]\n",
      " [-0.26606305]\n",
      " [ 3.02316739]\n",
      " [ 0.19108678]\n",
      " [ 3.08831053]\n",
      " [-0.1313704 ]\n",
      " [ 3.46267665]\n",
      " [ 0.05300457]\n",
      " [ 3.39472758]\n",
      " [ 0.04420339]\n",
      " [ 3.03800441]\n",
      " [-0.12465509]\n",
      " [ 2.97079563]\n",
      " [ 0.1803733 ]\n",
      " [ 2.33971715]\n",
      " [-0.26443181]\n",
      " [ 2.27195333]\n",
      " [ 0.27621686]\n",
      " [ 1.44578999]\n",
      " [-0.36618453]\n",
      " [ 1.37726405]\n",
      " [ 0.33194115]\n",
      " [ 0.43422225]\n",
      " [-0.43051296]\n",
      " [ 0.3984897 ]\n",
      " [ 0.34662227]]\n",
      "[[-0.00077563]\n",
      " [ 0.05430133]\n",
      " [ 0.05062759]\n",
      " [ 0.05867382]\n",
      " [-0.05500036]\n",
      " [ 0.18663983]\n",
      " [ 0.04775637]\n",
      " [ 0.19541405]\n",
      " [-0.04740396]\n",
      " [ 0.30782017]\n",
      " [ 0.03980597]\n",
      " [ 0.31662666]\n",
      " [-0.03438478]\n",
      " [ 0.40290418]\n",
      " [ 0.02666605]\n",
      " [ 0.41170814]\n",
      " [-0.01615044]\n",
      " [ 0.46137151]\n",
      " [ 0.00835992]\n",
      " [ 0.45252927]\n",
      " [ 0.00733813]\n",
      " [ 0.40489964]\n",
      " [-0.01518418]\n",
      " [ 0.39605227]\n",
      " [ 0.02559317]\n",
      " [ 0.31179479]\n",
      " [-0.03355564]\n",
      " [ 0.30293911]\n",
      " [ 0.0386045 ]\n",
      " [ 0.19259238]\n",
      " [-0.04672739]\n",
      " [ 0.18370881]\n",
      " [ 0.04640728]\n",
      " [ 0.05771668]\n",
      " [-0.05481537]\n",
      " [ 0.05326518]\n",
      " [ 0.04881051]]\n",
      "[[-0.01226348]\n",
      " [ 0.27204009]\n",
      " [ 0.25282119]\n",
      " [ 0.29290179]\n",
      " [-0.27555236]\n",
      " [ 0.93374509]\n",
      " [ 0.23705409]\n",
      " [ 0.97680301]\n",
      " [-0.23911724]\n",
      " [ 1.53966171]\n",
      " [ 0.19611803]\n",
      " [ 1.58311522]\n",
      " [-0.17527794]\n",
      " [ 2.01509153]\n",
      " [ 0.12967577]\n",
      " [ 2.05874758]\n",
      " [-0.08495304]\n",
      " [ 2.30783732]\n",
      " [ 0.03782284]\n",
      " [ 2.26295753]\n",
      " [ 0.03224751]\n",
      " [ 2.02501664]\n",
      " [-0.0803393 ]\n",
      " [ 1.98042968]\n",
      " [ 0.12321828]\n",
      " [ 1.55949275]\n",
      " [-0.17301316]\n",
      " [ 1.51466185]\n",
      " [ 0.18756099]\n",
      " [ 0.96351707]\n",
      " [-0.24008811]\n",
      " [ 0.91831975]\n",
      " [ 0.22542807]\n",
      " [ 0.28913641]\n",
      " [-0.28203298]\n",
      " [ 0.26591625]\n",
      " [ 0.23607315]]\n"
     ]
    }
   ],
   "source": [
    "for Fi in [30.0, 4.0, 20.0]:\n",
    "    print(f(E1=29e3, E2=29001.0, F=Fi))"
   ]
  },
  {
   "cell_type": "code",
   "execution_count": 5,
   "metadata": {},
   "outputs": [
    {
     "data": {
      "image/png": "[encoded data removed]",
      "text/plain": [
       "<Figure size 432x288 with 1 Axes>"
      ]
     },
     "metadata": {
      "needs_background": "light"
     },
     "output_type": "display_data"
    }
   ],
   "source": [
    "em.plot_displ(model, f(50e3, 29003.0, 30.0));"
   ]
  }
 ],
 "metadata": {
  "kernelspec": {
   "display_name": "Python 3",
   "language": "python",
   "name": "python3"
  },
  "language_info": {
   "codemirror_mode": {
    "name": "ipython",
    "version": 3
   },
   "file_extension": ".py",
   "mimetype": "text/x-python",
   "name": "python",
   "nbconvert_exporter": "python",
   "pygments_lexer": "ipython3",
   "version": "3.8.8"
  }
 },
 "nbformat": 4,
 "nbformat_minor": 4
}
